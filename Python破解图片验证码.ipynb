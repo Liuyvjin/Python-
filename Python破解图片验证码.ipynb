{
 "cells": [
  {
   "cell_type": "markdown",
   "metadata": {
    "collapsed": true
   },
   "source": [
    "# Python破解图片验证码\n"
   ]
  },
  {
   "cell_type": "markdown",
   "metadata": {},
   "source": [
    "## 1. 导入库 "
   ]
  },
  {
   "cell_type": "code",
   "execution_count": null,
   "metadata": {
    "collapsed": true
   },
   "outputs": [],
   "source": [
    "# 导入PIL\n",
    "from PIL import Image\n",
    "import math\n",
    "import os"
   ]
  },
  {
   "cell_type": "markdown",
   "metadata": {},
   "source": [
    "## 2. 打开验证码并展示 "
   ]
  },
  {
   "cell_type": "code",
   "execution_count": 26,
   "metadata": {},
   "outputs": [
    {
     "data": {
      "image/png": "[encoded data removed]",
      "text/plain": [
       "<PIL.Image.Image image mode=P size=84x22 at 0x1F6BF544A20>"
      ]
     },
     "execution_count": 26,
     "metadata": {},
     "output_type": "execute_result"
    }
   ],
   "source": [
    "im = Image.open(\"./pics/验证码.gif\")\n",
    "# 将图片转换为8位像素模式\n",
    "im.convert(\"P\")"
   ]
  },
  {
   "cell_type": "markdown",
   "metadata": {},
   "source": [
    "颜色直方图的每一位数字都代表了在图片中含有对应位的颜色的像素的数量。"
   ]
  },
  {
   "cell_type": "code",
   "execution_count": 9,
   "metadata": {
    "scrolled": true
   },
   "outputs": [
    {
     "name": "stdout",
     "output_type": "stream",
     "text": [
      "[1, 1, 1, 1, 3, 15, 186, 8, 116, 1, 1, 1, 1, 3, 6, 21, 1, 1, 1, 2, 1, 3, 1, 1, 1, 2, 2, 1, 1, 1, 1, 2, 2, 1, 2, 2, 1, 1, 1, 3, 1, 1, 3, 1, 1, 1, 2, 1, 1, 2, 1, 2, 2, 1, 1, 2, 132, 18, 10, 1, 2, 2, 1, 1, 1, 1, 2, 1, 2, 365, 10, 115, 135, 625, 0, 0, 0, 0, 0, 0, 0, 0, 0, 0, 0, 0, 0, 0, 0, 0, 0, 0, 0, 0, 0, 0, 0, 0, 0, 0, 0, 0, 0, 0, 0, 0, 0, 0, 0, 0, 0, 0, 0, 0, 0, 0, 0, 0, 0, 0, 0, 0, 0, 0, 0, 0, 0, 0, 0, 0, 0, 0, 0, 0, 0, 0, 0, 0, 0, 0, 0, 0, 0, 0, 0, 0, 0, 0, 0, 0, 0, 0, 0, 0, 0, 0, 0, 0, 0, 0, 0, 0, 0, 0, 0, 0, 0, 0, 0, 0, 0, 0, 0, 0, 0, 0, 0, 0, 0, 0, 0, 0, 0, 0, 0, 0, 0, 0, 0, 0, 0, 0, 0, 0, 0, 0, 0, 0, 0, 0, 0, 0, 0, 0, 0, 0, 0, 0, 0, 0, 0, 0, 0, 0, 0, 0, 0, 0, 0, 0, 0, 0, 0, 0, 0, 0, 0, 0, 0, 0, 0, 0, 0, 0, 0, 0, 0, 0, 0, 0, 0, 0, 0, 0, 0, 0, 0, 0, 0, 0, 0, 0, 0, 0, 0, 0]\n"
     ]
    }
   ],
   "source": [
    "# 打印颜色直方图\n",
    "print(im.histogram())"
   ]
  },
  {
   "cell_type": "markdown",
   "metadata": {},
   "source": [
    "## 3. 得到出现次数最多的颜色，(颜色编号, 频数)：\n",
    "\n",
    "使用sorted对频数排序排序。\n",
    "sort 是应用在 list 上的方法，sorted 可以对所有可迭代的对象进行排序操作。\n",
    "list 的 sort 方法返回的是对已经存在的列表进行操作，无返回值，而内建函数 sorted 方法返回的是一个新的 list，而不是在原来的基础上进行的操作。\n",
    "```\n",
    "sorted(iterable, cmp=None, key=None, reverse=False)\n",
    "```\n",
    "参数说明：\n",
    "* iterable -- 可迭代对象。\n",
    "* cmp -- 比较的函数，这个具有两个参数，参数的值都是从可迭代对象中取出，此函数必须遵守的规则为，大于则返回1，小于则返回-1，等于则返回0。\n",
    "* key -- 主要是用来进行比较的元素，只有一个参数，具体的函数的参数就是取自于可迭代对象中，指定可迭代对象中的一个元素来进行排序。\n",
    "* reverse -- 排序规则，reverse = True 降序 ， reverse = False 升序（默认）。"
   ]
  },
  {
   "cell_type": "code",
   "execution_count": 17,
   "metadata": {
    "scrolled": true
   },
   "outputs": [
    {
     "name": "stdout",
     "output_type": "stream",
     "text": [
      "[(73, 625), (69, 365), (6, 186), (72, 135), (56, 132), (8, 116), (71, 115), (15, 21), (57, 18), (5, 15)]\n"
     ]
    }
   ],
   "source": [
    "his = im.histogram()\n",
    "values = dict(enumerate(his))\n",
    "print(sorted(values.items(),key=lambda x:x[1], reverse=True)[:10])"
   ]
  },
  {
   "cell_type": "markdown",
   "metadata": {},
   "source": [
    "## 4. 将数字颜色置0，其余颜色置255，得到图片im2"
   ]
  },
  {
   "cell_type": "code",
   "execution_count": 24,
   "metadata": {},
   "outputs": [
    {
     "data": {
      "image/png": "[encoded data removed]",
      "text/plain": [
       "<PIL.Image.Image image mode=P size=84x22 at 0x1F6C037A7F0>"
      ]
     },
     "execution_count": 24,
     "metadata": {},
     "output_type": "execute_result"
    }
   ],
   "source": [
    "im2 = Image.new(\"P\", im.size, 255)\n",
    "for x in range(im.size[1]):\n",
    "    for y in range(im.size[0]):\n",
    "        pix = im.getpixel((y,x))\n",
    "        if pix == 6 or pix == 8:  # 这两种颜色是数字\n",
    "            im2.putpixel((y,x),0)\n",
    "im2  # 显示图片"
   ]
  },
  {
   "cell_type": "markdown",
   "metadata": {},
   "source": [
    "## 5. 向量空间图像识别\n",
    "关于向量空间搜索引擎的原理可以参考这篇文章：http://ondoc.logand.com/d/2697/pdf\n",
    "\n",
    "Don't panic。向量空间搜索引擎名字听上去很高大上其实原理很简单。拿文章里的例子来说：\n",
    "\n",
    "你有 3 篇文档，我们要怎么计算它们之间的相似度呢？2 篇文档所使用的相同的单词越多，那这两篇文章就越相似！但是这单词太多怎么办，就由我们来选择几个关键单词，选择的单词又被称作特征，每一个特征就好比空间中的一个维度（x，y，z 等），一组特征就是一个矢量，每一个文档我们都能得到这么一个矢量，只要计算矢量之间的夹角就能得到文章的相似度了。\n",
    "\n",
    "下面的类会比较两个 python 字典类型并输出它们的相似度（用 0～1 的数字表示）"
   ]
  },
  {
   "cell_type": "code",
   "execution_count": 25,
   "metadata": {
    "collapsed": true
   },
   "outputs": [],
   "source": [
    "# 用python类实现向量相关性系数计算\n",
    "class VectorCompare:\n",
    "    # 计算矢量的大小\n",
    "    def magnitude(self, vector):\n",
    "        total = 0\n",
    "        for val in vector.itervalues():\n",
    "            total += val**2\n",
    "        return math.sqrt(total)\n",
    "    \n",
    "    # 计算矢量之间的cos\n",
    "    def relation(self, vec1, vec2):\n",
    "        top = 0\n",
    "        for key, val in vec1.iteritems():\n",
    "            if vec2.has_key(key):\n",
    "                top += val*vec2[key]\n",
    "        return top / (self.magnitude(vec1) * self.magnitude(vec2))\n",
    "    \n",
    "# 实例化相关系数计算类\n",
    "v = VectorCompare()"
   ]
  },
  {
   "cell_type": "markdown",
   "metadata": {},
   "source": [
    "## 6. 图片转矢量方法"
   ]
  },
  {
   "cell_type": "code",
   "execution_count": null,
   "metadata": {
    "collapsed": true
   },
   "outputs": [],
   "source": [
    "# 将图片转换为矢量，矢量用字典保存，key为像素位置，val为像素值\n",
    "def buildvector(im):\n",
    "    d1 = {}\n",
    "    count = 0\n",
    "    for i in im.getdata():\n",
    "        d1[count] = i\n",
    "        count += 1\n",
    "    return d1"
   ]
  },
  {
   "cell_type": "markdown",
   "metadata": {},
   "source": [
    "## 7. 加载对比集\n",
    "加载对比集到imageset列表中，列表的每一项是一个字典，如 {'a': [img转换成的vector]}"
   ]
  },
  {
   "cell_type": "code",
   "execution_count": null,
   "metadata": {
    "collapsed": true
   },
   "outputs": [],
   "source": [
    "# 加载对比集\n",
    "# icon set字符集\n",
    "iconset = ['0','1','2','3','4','5','6','7','8','9','0','a','b',\n",
    "           'c','d','e','f','g','h','i','j','k','l','m','n','o',\n",
    "           'p','q','r','s','t','u','v','w','x','y','z']\n",
    "imageset = []\n",
    "for letter in iconset:\n",
    "    for img in os.listdir('./iconset/%s/'%(letter)):\n",
    "        temp = []\n",
    "        if img != \"Thumbs.db\" and img != \".DS_Store\":\n",
    "            temp.append(buildvector(Image.open(\"./iconset/%s/%s\"%(letter,img))))\n",
    "        imageset.append({letter:temp})"
   ]
  },
  {
   "cell_type": "markdown",
   "metadata": {},
   "source": [
    "## 8. 对验证码进行切割，对每个单字用比较集进行比较，输出最可能的结果 "
   ]
  },
  {
   "cell_type": "code",
   "execution_count": null,
   "metadata": {
    "collapsed": true
   },
   "outputs": [],
   "source": [
    "# 对验证码图片进行切割,切割位置存在letters中\n",
    "inletter = False\n",
    "foundletter=False\n",
    "start = 0\n",
    "end = 0\n",
    "letters = []\n",
    "for y in range(im2.size[0]): # slice across\n",
    "    for x in range(im2.size[1]): # slice down\n",
    "        pix = im2.getpixel((y,x))\n",
    "        if pix != 255:\n",
    "            inletter = True\n",
    "\n",
    "    if foundletter == False and inletter == True:\n",
    "        foundletter = True\n",
    "        start = y\n",
    "\n",
    "    if foundletter == True and inletter == False:\n",
    "        foundletter = False\n",
    "        end = y\n",
    "        letters.append((start,end))\n",
    "    inletter=False\n",
    "    \n",
    "# 对验证码单字进行比较，并输出最可能的一项\n",
    "for letter in letters:\n",
    "    # 切割出单字im3\n",
    "    im3 = im2.crop(( letter[0] , 0, letter[1],im2.size[1] ))\n",
    "\n",
    "    guess = []\n",
    "\n",
    "    # 将切割得到的验证码小片段与每个对比集片段进行比较\n",
    "    for image in imageset:\n",
    "        for x,y in image.iteritems():\n",
    "            if len(y) != 0:\n",
    "                guess.append( ( v.relation(y[0],buildvector(im3)),x) )\n",
    "\n",
    "    guess.sort(reverse=True)\n",
    "    print(guess[0])"
   ]
  }
 ],
 "metadata": {
  "kernelspec": {
   "display_name": "Python [conda root]",
   "language": "python",
   "name": "conda-root-py"
  },
  "language_info": {
   "codemirror_mode": {
    "name": "ipython",
    "version": 3
   },
   "file_extension": ".py",
   "mimetype": "text/x-python",
   "name": "python",
   "nbconvert_exporter": "python",
   "pygments_lexer": "ipython3",
   "version": "3.6.2"
  }
 },
 "nbformat": 4,
 "nbformat_minor": 2
}
