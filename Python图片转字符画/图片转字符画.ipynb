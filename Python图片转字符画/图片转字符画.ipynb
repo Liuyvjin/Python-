{
 "cells": [
  {
   "cell_type": "markdown",
   "metadata": {},
   "source": [
    "# Python 图片转字符画\n",
    "字符画是一系列字符的组合，我们可以把字符看作是比较大块的像素，一个字符能表现一种颜色（为了简化可以这么理解），字符的种类越多，可以表现的颜色也越多，图片也会更有层次感。问题来了，我们是要转换一张彩色的图片，这么多的颜色，要怎么对应到单色的字符画上去？我们可以使用灰度值公式将像素的 RGB 值映射到灰度值（注意这个公式并不是一个真实的算法，而是简化的 sRGB IEC61966-2.1 公式，真实的公式更复杂一些，不过在我们的这个应用场景下并没有必要）：\n",
    "```\n",
    "gray ＝ 0.2126 * r + 0.7152 * g + 0.0722 * b\n",
    "```\n",
    "然后创建一个不重复的字符列表，灰度值小（暗）的用列表开头的符号，灰度值大（亮）的用列表末尾的符号。"
   ]
  },
  {
   "cell_type": "markdown",
   "metadata": {},
   "source": [
    "### 1. 导入模块"
   ]
  },
  {
   "cell_type": "code",
   "execution_count": 58,
   "metadata": {
    "collapsed": true
   },
   "outputs": [],
   "source": [
    "from PIL import Image\n",
    "import argparse  # 用于管理命令行参数输入"
   ]
  },
  {
   "cell_type": "markdown",
   "metadata": {},
   "source": [
    "### 1.5 设置命令行参数\n",
    "由于Jupyter Notebook无法像命令行一样传入参数，所以在此设置"
   ]
  },
  {
   "cell_type": "code",
   "execution_count": 70,
   "metadata": {
    "collapsed": true
   },
   "outputs": [],
   "source": [
    "# 格式：['输入图片','-o输出文件','--width','宽度','--height','高度']\n",
    "cmd_args = ['.\\pics\\mingren.jpg','-o.\\pics\\mingren.txt','--width','75','--height','30']"
   ]
  },
  {
   "cell_type": "markdown",
   "metadata": {},
   "source": [
    "### 2. 处理命令行参数\n",
    "处理cmd_args，并打印出命令行"
   ]
  },
  {
   "cell_type": "code",
   "execution_count": 71,
   "metadata": {},
   "outputs": [
    {
     "name": "stdout",
     "output_type": "stream",
     "text": [
      "$ pic2ascii.py .\\pics\\mingren.jpg -o .\\pics\\mingren.txt --width 75 --height 30\n"
     ]
    }
   ],
   "source": [
    "#首先构建参数解析器的实例\n",
    "parser = argparse.ArgumentParser()\n",
    "\n",
    "# 定义输入文件，输出文件，输出字符画的宽和高的命令行格式\n",
    "parser.add_argument('file')\n",
    "parser.add_argument('-o', '--output')\n",
    "parser.add_argument('--width', type=int, default=80)\n",
    "parser.add_argument('--height', type=int, default=80)\n",
    "\n",
    "# 解析并获取命令行参数\n",
    "args = parser.parse_args(cmd_args)\n",
    "ImgPath = args.file\n",
    "Width = args.width\n",
    "Height = args.height\n",
    "Output = args.output\n",
    "print(\"$ pic2ascii.py {} -o {} --width {} --height {}\".format(ImgPath, Output, Width, Height))"
   ]
  },
  {
   "cell_type": "markdown",
   "metadata": {},
   "source": [
    "### 3. 实现RGB像素转字符的函数"
   ]
  },
  {
   "cell_type": "code",
   "execution_count": 68,
   "metadata": {
    "collapsed": true
   },
   "outputs": [],
   "source": [
    "# 用于表示不同灰度像素的字符列表\n",
    "ascii_char = list(\"$@B%8&WM#*oahkbdpqwmZO0QLCJUYXzcvunxrjft/\\|()1{}[]?-_+~<>i!lI;:,\\\"^`'. \")\n",
    "\n",
    "# 函数定义\n",
    "def rgb2char(r,g,b,alpha=256):\n",
    "    # 判断透明度\n",
    "    if alpha == 0:\n",
    "        return ' '\n",
    "    \n",
    "    # 获取字符集长度\n",
    "    length = len(ascii_char)\n",
    "    \n",
    "    # 将RGB转换为灰度值gray,灰度值范围为 0-255\n",
    "    gray = int(0.2126*r + 0.7152*g + 0.0722*b)\n",
    "    \n",
    "    # 将灰度值映射到字符集\n",
    "    return ascii_char[int(gray/255*length)]"
   ]
  },
  {
   "cell_type": "markdown",
   "metadata": {},
   "source": [
    "### 4. 对图片进行处理"
   ]
  },
  {
   "cell_type": "code",
   "execution_count": 72,
   "metadata": {},
   "outputs": [
    {
     "name": "stdout",
     "output_type": "stream",
     "text": [
      "````````````````````````````````````````````````````''..c' .J'x ..'........\n",
      "^/:,,,,,,,,,,,,,,,,,,,,,,\"\",,,,,,,,,\"\"\",,,,\"\"\"\"\",,\"\"\"\"^^` O'J\"^c.`^^^^^^^^'\n",
      ". 'ux:,,,,,,,,,,,,,,,,,,,,,,,,,\"\"``^\",\"\",,,\"\"\"\"\"\"\"\"\"\"\"^\"^\"'*w``{..^`^^^^^^'\n",
      "`^\"\"\",,,,,,,:,,,,,,,,,\"\"\"^^\"^^``\"^^^\"\"^^^^\"^^^^^^^^^^^^^^^``i`^l'.``^^^^^^'\n",
      "`^,,,,\",,i>^,\"^,^,^^^^^`````:~__+~;``````'`^`^``'````^^^`^^^`^.v..`^``^`^\"'\n",
      "`^,,,,,,\"\"\"\"\"\",\":~(tL``'.h@h8&*,```-$$''hkM@@@$O>;!liI;,^^```\"1^ ^l|z(,;_' \n",
      "`^,,,,,\"\"\"\"^^``i-Yl'`#wMhcm*abhaBYOx`v-]}]^.^;.1WBbZdLM:!lll\"^^^^^`l(  .`\"'\n",
      "`^,,\",,\"\"\"^^`;/>nB~hYxntrrxf/t//vL@dbh: ^'\"^^^^\"q`..\">k%pM,:,\"\"l. ...`\"`^`'\n",
      "``\"\"\"\"\"^`,#Yi~l~!WffrrxjjjfjjnvuuucxcZ .`\"\",,:^^'` ''q'''[)^\"^^^\"'.\"`^`^^`.\n",
      "'`\"\"^,>^:!!l;@'?z||/frxxuunxxnxxxrnxzk' ''^\"\",:,\"#',m'o:``-a:^^`'^[.``^^^`.\n",
      ".vq\\.I````.@Z`p|ffjjncvXccvcvcYuxjnwOCYvvXXLZ$j `.\",.~*w^`>(*`' :+,1..^```.\n",
      ".^' l``'+hwwk?|ff\\X8*}Y_}{[]l.. [pzj)<+~]_a!<i_#$qOLdz ''..[)@'.+ ..+,.`^`.\n",
      "\",.X^'+@obqBhQ!>>~_~_1.. . .  $l!$cu$@M8m}\\*p   ...;](*$nZQ`]*Z.|..` .. ``.\n",
      ",^bil,o*@[ .~oi^`````w        $.kIzUY*]-{0l>.         . B_-fB88\"m.''````'`.\n",
      "\"0\"`jkW_W.,l[}d`X`^^^Q .      .8h;;~_a....,    .    .'zM&COObBW\"u.''```^``'\n",
      "\"'.$*&`:8.i{)O)QZu^`i` ^>~~~>!;.?/Ili'.   ........  .iMLYzo)Y@j1v ````^^^`'\n",
      "' $%*^`:J' ]O(0|. 'nq...\"i>>>>>i. .   ............  . $<i>$ $>. .`'``^^^^`'\n",
      ".$Wa$BM`i>m.. ..   .. ...'.. .  ................... . Y::0M  '. '````^^^^^.\n",
      "omMW$  &^;!>[Z?:i . ..........   ..................... ..  ,I,| I!l,`^\"``^'\n",
      "LkM&  . W^i^````\") .  .'.'..' .^!^.........................]i-+i,'lllll;^^.\n",
      "XOWB .` .o%?Z]-ftXZl ....]I... ..........'``;??,`{''.......]',_.:IlllllIll:\n",
      "jL@..,, '%@8.L`^Jau){I,' '........................`'.'.... ' w'.llIlllllll:\n",
      "/zo \":,..@%Yz~) .  /` ,. ?.i_wr`.........................''{/ .l!lllllllll:\n",
      "(1 `:;:..@@UOdZ\"`' x `|  .. .{.. 'ar. '............'.'..'C_ .:llllllllllll:\n",
      ";d.;;:;' $&Jvx0;:l.`.!: n c ;^  |..- b(:.. ... . `' !x>  .IIllllllllllllll:\n",
      "':^II;;\".MdCYU0^<;p.ldi.,' ^_, ?..{ ` .>bcwpz]I.  . ',llllllllllllllllllll:\n",
      "..!lIII,.kJUXX>]U,Q\"};.o,j\"Xl :!`i  ; I  !i%#hZ`IIIllllIlllllllllllIII!lll:\n",
      "Y'IIIII;^xczXcu^`X'`[',\"J\"x`^'c\":_'c.;..l._->~~o.;IlllllI^ll,'`!lIl:^l`^Il:\n",
      ".,llIIl;''tjjxxr.,$@@oqmqqpb#Monj,v^(:.'.I<i<<<U IIlllllllllll!!`^'^\"':`ll:\n",
      ".,:,,^` $h@>~~<i\".wWwQLCCJJLLLLQp$$$$@LI`;,,:!`  .,:::::::::::::::::::;;::,\n",
      "\n"
     ]
    }
   ],
   "source": [
    "# 打开并调整图片\n",
    "im = Image.open(ImgPath)\n",
    "im = im.resize((Width, Height), Image.NEAREST)\n",
    "\n",
    "# 初始化输出的字符串\n",
    "txt = \"\"\n",
    "\n",
    "# 遍历图像中的每一行\n",
    "for i in range(Height):\n",
    "    for j in range(Width):\n",
    "        txt += rgb2char(*im.getpixel((j, i)))\n",
    "    txt += '\\n'\n",
    "\n",
    "# 输出到屏幕\n",
    "print(txt)\n",
    "\n",
    "# 输出到文件\n",
    "if Output:\n",
    "    with open(Output, 'w') as fd:\n",
    "        fd.write(txt)\n",
    "else:\n",
    "    with open('.'+ImgPath.split('.')[1]+'.txt', 'w') as fd:\n",
    "        fd.write(txt)"
   ]
  },
  {
   "cell_type": "markdown",
   "metadata": {},
   "source": [
    "![mingren.jpg](./pics/mingren.jpg)"
   ]
  }
 ],
 "metadata": {
  "kernelspec": {
   "display_name": "Python [default]",
   "language": "python",
   "name": "python3"
  },
  "language_info": {
   "codemirror_mode": {
    "name": "ipython",
    "version": 3
   },
   "file_extension": ".py",
   "mimetype": "text/x-python",
   "name": "python",
   "nbconvert_exporter": "python",
   "pygments_lexer": "ipython3",
   "version": "3.6.2"
  }
 },
 "nbformat": 4,
 "nbformat_minor": 2
}
